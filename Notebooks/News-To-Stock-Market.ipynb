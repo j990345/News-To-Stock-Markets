{
 "cells": [
  {
   "cell_type": "markdown",
   "metadata": {},
   "source": [
    "# Capstone 2 Project - News Headline Impact to Stock Market"
   ]
  },
  {
   "cell_type": "markdown",
   "metadata": {},
   "source": [
    "## Problem Statement\n",
    "Can news headlines be used to predict stock market movements for more than 60% of the time?"
   ]
  },
  {
   "cell_type": "markdown",
   "metadata": {},
   "source": [
    "### Section 1. Data Wrangling"
   ]
  },
  {
   "cell_type": "markdown",
   "metadata": {},
   "source": [
    "#### 1.1 Import Library"
   ]
  },
  {
   "cell_type": "code",
   "execution_count": 1,
   "metadata": {},
   "outputs": [],
   "source": [
    "import os\n",
    "import pandas as pd\n",
    "import numpy as np\n",
    "import string\n",
    "import matplotlib.pyplot as plt\n",
    "import gensim\n",
    "import nltk\n",
    "from nltk import stem\n",
    "from nltk.tokenize import sent_tokenize, word_tokenize"
   ]
  },
  {
   "cell_type": "markdown",
   "metadata": {},
   "source": [
    "#### 1.2 Import Data and Initial Data Check"
   ]
  },
  {
   "cell_type": "code",
   "execution_count": 2,
   "metadata": {},
   "outputs": [
    {
     "name": "stdout",
     "output_type": "stream",
     "text": [
      "C:\\Users\\j9903\\Desktop\\SpringBoard\\Assignments\\Capstone Project 2\n"
     ]
    }
   ],
   "source": [
    "path = os.getcwd()\n",
    "print(path)"
   ]
  },
  {
   "cell_type": "code",
   "execution_count": 3,
   "metadata": {
    "scrolled": true
   },
   "outputs": [
    {
     "name": "stdout",
     "output_type": "stream",
     "text": [
      "<class 'pandas.core.frame.DataFrame'>\n",
      "RangeIndex: 32770 entries, 0 to 32769\n",
      "Data columns (total 3 columns):\n",
      " #   Column       Non-Null Count  Dtype \n",
      "---  ------       --------------  ----- \n",
      " 0   Headlines    32770 non-null  object\n",
      " 1   Time         32770 non-null  object\n",
      " 2   Description  32770 non-null  object\n",
      "dtypes: object(3)\n",
      "memory usage: 768.2+ KB\n"
     ]
    }
   ],
   "source": [
    "df = pd.read_csv(path + '\\\\Data\\\\Raw\\\\reuters_headlines.csv')\n",
    "df.info()"
   ]
  },
  {
   "cell_type": "code",
   "execution_count": 4,
   "metadata": {},
   "outputs": [
    {
     "data": {
      "text/html": [
       "<div>\n",
       "<style scoped>\n",
       "    .dataframe tbody tr th:only-of-type {\n",
       "        vertical-align: middle;\n",
       "    }\n",
       "\n",
       "    .dataframe tbody tr th {\n",
       "        vertical-align: top;\n",
       "    }\n",
       "\n",
       "    .dataframe thead th {\n",
       "        text-align: right;\n",
       "    }\n",
       "</style>\n",
       "<table border=\"1\" class=\"dataframe\">\n",
       "  <thead>\n",
       "    <tr style=\"text-align: right;\">\n",
       "      <th></th>\n",
       "      <th>Headlines</th>\n",
       "      <th>Time</th>\n",
       "      <th>Description</th>\n",
       "    </tr>\n",
       "  </thead>\n",
       "  <tbody>\n",
       "    <tr>\n",
       "      <th>0</th>\n",
       "      <td>TikTok considers London and other locations fo...</td>\n",
       "      <td>Jul 18 2020</td>\n",
       "      <td>TikTok has been in discussions with the UK gov...</td>\n",
       "    </tr>\n",
       "    <tr>\n",
       "      <th>1</th>\n",
       "      <td>Disney cuts ad spending on Facebook amid growi...</td>\n",
       "      <td>Jul 18 2020</td>\n",
       "      <td>Walt Disney  has become the latest company to ...</td>\n",
       "    </tr>\n",
       "    <tr>\n",
       "      <th>2</th>\n",
       "      <td>Trail of missing Wirecard executive leads to B...</td>\n",
       "      <td>Jul 18 2020</td>\n",
       "      <td>Former Wirecard  chief operating officer Jan M...</td>\n",
       "    </tr>\n",
       "    <tr>\n",
       "      <th>3</th>\n",
       "      <td>Twitter says attackers downloaded data from up...</td>\n",
       "      <td>Jul 18 2020</td>\n",
       "      <td>Twitter Inc said on Saturday that hackers were...</td>\n",
       "    </tr>\n",
       "    <tr>\n",
       "      <th>4</th>\n",
       "      <td>U.S. Republicans seek liability protections as...</td>\n",
       "      <td>Jul 17 2020</td>\n",
       "      <td>A battle in the U.S. Congress over a new coron...</td>\n",
       "    </tr>\n",
       "    <tr>\n",
       "      <th>5</th>\n",
       "      <td>Wall Street Week Ahead: Fund managers navigate...</td>\n",
       "      <td>Jul 17 2020</td>\n",
       "      <td>Investors are searching for bargains in the wo...</td>\n",
       "    </tr>\n",
       "    <tr>\n",
       "      <th>6</th>\n",
       "      <td>Take Five: Hoping for that V-shape in earnings</td>\n",
       "      <td>Jul 17 2020</td>\n",
       "      <td>We knew Q2 earnings would be dire but the hope...</td>\n",
       "    </tr>\n",
       "    <tr>\n",
       "      <th>7</th>\n",
       "      <td>Evictions nearly back to pre-pandemic levels i...</td>\n",
       "      <td>Jul 17 2020</td>\n",
       "      <td>Landlords in some areas of the United States a...</td>\n",
       "    </tr>\n",
       "    <tr>\n",
       "      <th>8</th>\n",
       "      <td>Google bans ads on coronavirus conspiracy theo...</td>\n",
       "      <td>Jul 17 2020</td>\n",
       "      <td>Alphabet Inc's Google said on Friday it would ...</td>\n",
       "    </tr>\n",
       "    <tr>\n",
       "      <th>9</th>\n",
       "      <td>Flight to suburbs boosts U.S. homebuilding, bu...</td>\n",
       "      <td>Jul 17 2020</td>\n",
       "      <td>U.S. homebuilding increased in June by the mos...</td>\n",
       "    </tr>\n",
       "  </tbody>\n",
       "</table>\n",
       "</div>"
      ],
      "text/plain": [
       "                                           Headlines         Time  \\\n",
       "0  TikTok considers London and other locations fo...  Jul 18 2020   \n",
       "1  Disney cuts ad spending on Facebook amid growi...  Jul 18 2020   \n",
       "2  Trail of missing Wirecard executive leads to B...  Jul 18 2020   \n",
       "3  Twitter says attackers downloaded data from up...  Jul 18 2020   \n",
       "4  U.S. Republicans seek liability protections as...  Jul 17 2020   \n",
       "5  Wall Street Week Ahead: Fund managers navigate...  Jul 17 2020   \n",
       "6     Take Five: Hoping for that V-shape in earnings  Jul 17 2020   \n",
       "7  Evictions nearly back to pre-pandemic levels i...  Jul 17 2020   \n",
       "8  Google bans ads on coronavirus conspiracy theo...  Jul 17 2020   \n",
       "9  Flight to suburbs boosts U.S. homebuilding, bu...  Jul 17 2020   \n",
       "\n",
       "                                         Description  \n",
       "0  TikTok has been in discussions with the UK gov...  \n",
       "1  Walt Disney  has become the latest company to ...  \n",
       "2  Former Wirecard  chief operating officer Jan M...  \n",
       "3  Twitter Inc said on Saturday that hackers were...  \n",
       "4  A battle in the U.S. Congress over a new coron...  \n",
       "5  Investors are searching for bargains in the wo...  \n",
       "6  We knew Q2 earnings would be dire but the hope...  \n",
       "7  Landlords in some areas of the United States a...  \n",
       "8  Alphabet Inc's Google said on Friday it would ...  \n",
       "9  U.S. homebuilding increased in June by the mos...  "
      ]
     },
     "execution_count": 4,
     "metadata": {},
     "output_type": "execute_result"
    }
   ],
   "source": [
    "df.head(10)"
   ]
  },
  {
   "cell_type": "code",
   "execution_count": 5,
   "metadata": {},
   "outputs": [
    {
     "data": {
      "text/html": [
       "<div>\n",
       "<style scoped>\n",
       "    .dataframe tbody tr th:only-of-type {\n",
       "        vertical-align: middle;\n",
       "    }\n",
       "\n",
       "    .dataframe tbody tr th {\n",
       "        vertical-align: top;\n",
       "    }\n",
       "\n",
       "    .dataframe thead th {\n",
       "        text-align: right;\n",
       "    }\n",
       "</style>\n",
       "<table border=\"1\" class=\"dataframe\">\n",
       "  <thead>\n",
       "    <tr style=\"text-align: right;\">\n",
       "      <th></th>\n",
       "      <th>DateTime</th>\n",
       "      <th>Headlines</th>\n",
       "      <th>Description</th>\n",
       "    </tr>\n",
       "  </thead>\n",
       "  <tbody>\n",
       "    <tr>\n",
       "      <th>0</th>\n",
       "      <td>2020-07-18</td>\n",
       "      <td>TikTok considers London and other locations fo...</td>\n",
       "      <td>TikTok has been in discussions with the UK gov...</td>\n",
       "    </tr>\n",
       "    <tr>\n",
       "      <th>1</th>\n",
       "      <td>2020-07-18</td>\n",
       "      <td>Disney cuts ad spending on Facebook amid growi...</td>\n",
       "      <td>Walt Disney  has become the latest company to ...</td>\n",
       "    </tr>\n",
       "    <tr>\n",
       "      <th>2</th>\n",
       "      <td>2020-07-18</td>\n",
       "      <td>Trail of missing Wirecard executive leads to B...</td>\n",
       "      <td>Former Wirecard  chief operating officer Jan M...</td>\n",
       "    </tr>\n",
       "    <tr>\n",
       "      <th>3</th>\n",
       "      <td>2020-07-18</td>\n",
       "      <td>Twitter says attackers downloaded data from up...</td>\n",
       "      <td>Twitter Inc said on Saturday that hackers were...</td>\n",
       "    </tr>\n",
       "    <tr>\n",
       "      <th>4</th>\n",
       "      <td>2020-07-17</td>\n",
       "      <td>U.S. Republicans seek liability protections as...</td>\n",
       "      <td>A battle in the U.S. Congress over a new coron...</td>\n",
       "    </tr>\n",
       "    <tr>\n",
       "      <th>5</th>\n",
       "      <td>2020-07-17</td>\n",
       "      <td>Wall Street Week Ahead: Fund managers navigate...</td>\n",
       "      <td>Investors are searching for bargains in the wo...</td>\n",
       "    </tr>\n",
       "    <tr>\n",
       "      <th>6</th>\n",
       "      <td>2020-07-17</td>\n",
       "      <td>Take Five: Hoping for that V-shape in earnings</td>\n",
       "      <td>We knew Q2 earnings would be dire but the hope...</td>\n",
       "    </tr>\n",
       "    <tr>\n",
       "      <th>7</th>\n",
       "      <td>2020-07-17</td>\n",
       "      <td>Evictions nearly back to pre-pandemic levels i...</td>\n",
       "      <td>Landlords in some areas of the United States a...</td>\n",
       "    </tr>\n",
       "    <tr>\n",
       "      <th>8</th>\n",
       "      <td>2020-07-17</td>\n",
       "      <td>Google bans ads on coronavirus conspiracy theo...</td>\n",
       "      <td>Alphabet Inc's Google said on Friday it would ...</td>\n",
       "    </tr>\n",
       "    <tr>\n",
       "      <th>9</th>\n",
       "      <td>2020-07-17</td>\n",
       "      <td>Flight to suburbs boosts U.S. homebuilding, bu...</td>\n",
       "      <td>U.S. homebuilding increased in June by the mos...</td>\n",
       "    </tr>\n",
       "  </tbody>\n",
       "</table>\n",
       "</div>"
      ],
      "text/plain": [
       "    DateTime                                          Headlines  \\\n",
       "0 2020-07-18  TikTok considers London and other locations fo...   \n",
       "1 2020-07-18  Disney cuts ad spending on Facebook amid growi...   \n",
       "2 2020-07-18  Trail of missing Wirecard executive leads to B...   \n",
       "3 2020-07-18  Twitter says attackers downloaded data from up...   \n",
       "4 2020-07-17  U.S. Republicans seek liability protections as...   \n",
       "5 2020-07-17  Wall Street Week Ahead: Fund managers navigate...   \n",
       "6 2020-07-17     Take Five: Hoping for that V-shape in earnings   \n",
       "7 2020-07-17  Evictions nearly back to pre-pandemic levels i...   \n",
       "8 2020-07-17  Google bans ads on coronavirus conspiracy theo...   \n",
       "9 2020-07-17  Flight to suburbs boosts U.S. homebuilding, bu...   \n",
       "\n",
       "                                         Description  \n",
       "0  TikTok has been in discussions with the UK gov...  \n",
       "1  Walt Disney  has become the latest company to ...  \n",
       "2  Former Wirecard  chief operating officer Jan M...  \n",
       "3  Twitter Inc said on Saturday that hackers were...  \n",
       "4  A battle in the U.S. Congress over a new coron...  \n",
       "5  Investors are searching for bargains in the wo...  \n",
       "6  We knew Q2 earnings would be dire but the hope...  \n",
       "7  Landlords in some areas of the United States a...  \n",
       "8  Alphabet Inc's Google said on Friday it would ...  \n",
       "9  U.S. homebuilding increased in June by the mos...  "
      ]
     },
     "execution_count": 5,
     "metadata": {},
     "output_type": "execute_result"
    }
   ],
   "source": [
    "# Convert string to datetime \n",
    "df['DateTime']= pd.to_datetime(df['Time'],format='%b %d %Y')\n",
    "df.drop('Time', axis=1, inplace=True)\n",
    "#Reorder columns and sort by datetime\n",
    "df = df[['DateTime', 'Headlines','Description']]\n",
    "df.sort_values(by='DateTime')\n",
    "df.head(10)"
   ]
  },
  {
   "cell_type": "code",
   "execution_count": 6,
   "metadata": {},
   "outputs": [
    {
     "data": {
      "text/plain": [
       "(32770, 3)"
      ]
     },
     "execution_count": 6,
     "metadata": {},
     "output_type": "execute_result"
    }
   ],
   "source": [
    "df.shape"
   ]
  },
  {
   "cell_type": "markdown",
   "metadata": {},
   "source": [
    "#### 1.3 Data Cleaning"
   ]
  },
  {
   "cell_type": "code",
   "execution_count": 7,
   "metadata": {
    "scrolled": true
   },
   "outputs": [
    {
     "name": "stdout",
     "output_type": "stream",
     "text": [
      "False\n",
      "0\n"
     ]
    }
   ],
   "source": [
    "#Check missing data\n",
    "print(df.isnull().values.any())\n",
    "print(df.isnull().sum().sum())"
   ]
  },
  {
   "cell_type": "code",
   "execution_count": 8,
   "metadata": {},
   "outputs": [
    {
     "data": {
      "text/html": [
       "<div>\n",
       "<style scoped>\n",
       "    .dataframe tbody tr th:only-of-type {\n",
       "        vertical-align: middle;\n",
       "    }\n",
       "\n",
       "    .dataframe tbody tr th {\n",
       "        vertical-align: top;\n",
       "    }\n",
       "\n",
       "    .dataframe thead th {\n",
       "        text-align: right;\n",
       "    }\n",
       "</style>\n",
       "<table border=\"1\" class=\"dataframe\">\n",
       "  <thead>\n",
       "    <tr style=\"text-align: right;\">\n",
       "      <th></th>\n",
       "      <th>DateTime</th>\n",
       "      <th>Headlines</th>\n",
       "      <th>Description</th>\n",
       "    </tr>\n",
       "  </thead>\n",
       "  <tbody>\n",
       "    <tr>\n",
       "      <th>606</th>\n",
       "      <td>2020-07-07</td>\n",
       "      <td>U.S. hiring vaults to record high in May; new ...</td>\n",
       "      <td>U.S. hiring surged to a record high in May and...</td>\n",
       "    </tr>\n",
       "    <tr>\n",
       "      <th>613</th>\n",
       "      <td>2020-07-07</td>\n",
       "      <td>Wirecard administrator sees strong interest fr...</td>\n",
       "      <td>The administrator of collapsed German payments...</td>\n",
       "    </tr>\n",
       "    <tr>\n",
       "      <th>824</th>\n",
       "      <td>2020-07-01</td>\n",
       "      <td>Factbox: More companies join Facebook ad boyco...</td>\n",
       "      <td>A long list of companies have pulled advertisi...</td>\n",
       "    </tr>\n",
       "    <tr>\n",
       "      <th>998</th>\n",
       "      <td>2020-06-29</td>\n",
       "      <td>Factbox: More companies join Facebook ad boyco...</td>\n",
       "      <td>A long list of companies have pulled advertisi...</td>\n",
       "    </tr>\n",
       "    <tr>\n",
       "      <th>1232</th>\n",
       "      <td>2020-06-24</td>\n",
       "      <td>Factbox: More U.S. companies join Facebook ad ...</td>\n",
       "      <td>A handful of U.S. companies have pulled advert...</td>\n",
       "    </tr>\n",
       "    <tr>\n",
       "      <th>...</th>\n",
       "      <td>...</td>\n",
       "      <td>...</td>\n",
       "      <td>...</td>\n",
       "    </tr>\n",
       "    <tr>\n",
       "      <th>32375</th>\n",
       "      <td>2018-03-28</td>\n",
       "      <td>SoftBank Vision Fund, Saudi Arabia to create w...</td>\n",
       "      <td>SoftBank Group Corp's  Vision Fund will invest...</td>\n",
       "    </tr>\n",
       "    <tr>\n",
       "      <th>32406</th>\n",
       "      <td>2018-03-27</td>\n",
       "      <td>Companies clamp down on crypto ads as regulato...</td>\n",
       "      <td>A growing number of internet companies are ban...</td>\n",
       "    </tr>\n",
       "    <tr>\n",
       "      <th>32503</th>\n",
       "      <td>2018-03-25</td>\n",
       "      <td>Take Five: World markets themes for the week a...</td>\n",
       "      <td>Following are five big themes likely to domina...</td>\n",
       "    </tr>\n",
       "    <tr>\n",
       "      <th>32578</th>\n",
       "      <td>2018-03-23</td>\n",
       "      <td>Tencent loses $24 billion in market cap after ...</td>\n",
       "      <td>China's Tencent Holdings Ltd  saw its shares d...</td>\n",
       "    </tr>\n",
       "    <tr>\n",
       "      <th>32714</th>\n",
       "      <td>2018-03-20</td>\n",
       "      <td>Asian business sentiment edges up to hit seven...</td>\n",
       "      <td>Business confidence among Asian companies rose...</td>\n",
       "    </tr>\n",
       "  </tbody>\n",
       "</table>\n",
       "<p>195 rows × 3 columns</p>\n",
       "</div>"
      ],
      "text/plain": [
       "        DateTime                                          Headlines  \\\n",
       "606   2020-07-07  U.S. hiring vaults to record high in May; new ...   \n",
       "613   2020-07-07  Wirecard administrator sees strong interest fr...   \n",
       "824   2020-07-01  Factbox: More companies join Facebook ad boyco...   \n",
       "998   2020-06-29  Factbox: More companies join Facebook ad boyco...   \n",
       "1232  2020-06-24  Factbox: More U.S. companies join Facebook ad ...   \n",
       "...          ...                                                ...   \n",
       "32375 2018-03-28  SoftBank Vision Fund, Saudi Arabia to create w...   \n",
       "32406 2018-03-27  Companies clamp down on crypto ads as regulato...   \n",
       "32503 2018-03-25  Take Five: World markets themes for the week a...   \n",
       "32578 2018-03-23  Tencent loses $24 billion in market cap after ...   \n",
       "32714 2018-03-20  Asian business sentiment edges up to hit seven...   \n",
       "\n",
       "                                             Description  \n",
       "606    U.S. hiring surged to a record high in May and...  \n",
       "613    The administrator of collapsed German payments...  \n",
       "824    A long list of companies have pulled advertisi...  \n",
       "998    A long list of companies have pulled advertisi...  \n",
       "1232   A handful of U.S. companies have pulled advert...  \n",
       "...                                                  ...  \n",
       "32375  SoftBank Group Corp's  Vision Fund will invest...  \n",
       "32406  A growing number of internet companies are ban...  \n",
       "32503  Following are five big themes likely to domina...  \n",
       "32578  China's Tencent Holdings Ltd  saw its shares d...  \n",
       "32714  Business confidence among Asian companies rose...  \n",
       "\n",
       "[195 rows x 3 columns]"
      ]
     },
     "execution_count": 8,
     "metadata": {},
     "output_type": "execute_result"
    }
   ],
   "source": [
    "#Check duplicate data\n",
    "df[df.duplicated(['Headlines'])]"
   ]
  },
  {
   "cell_type": "code",
   "execution_count": 9,
   "metadata": {},
   "outputs": [
    {
     "data": {
      "text/plain": [
       "(32575, 3)"
      ]
     },
     "execution_count": 9,
     "metadata": {},
     "output_type": "execute_result"
    }
   ],
   "source": [
    "df.drop_duplicates(subset=['Headlines'], keep=\"first\", inplace=True)\n",
    "df.shape"
   ]
  },
  {
   "cell_type": "code",
   "execution_count": 10,
   "metadata": {},
   "outputs": [
    {
     "data": {
      "text/html": [
       "<div>\n",
       "<style scoped>\n",
       "    .dataframe tbody tr th:only-of-type {\n",
       "        vertical-align: middle;\n",
       "    }\n",
       "\n",
       "    .dataframe tbody tr th {\n",
       "        vertical-align: top;\n",
       "    }\n",
       "\n",
       "    .dataframe thead th {\n",
       "        text-align: right;\n",
       "    }\n",
       "</style>\n",
       "<table border=\"1\" class=\"dataframe\">\n",
       "  <thead>\n",
       "    <tr style=\"text-align: right;\">\n",
       "      <th></th>\n",
       "      <th>DateTime</th>\n",
       "      <th>Headlines</th>\n",
       "      <th>Description</th>\n",
       "    </tr>\n",
       "  </thead>\n",
       "  <tbody>\n",
       "  </tbody>\n",
       "</table>\n",
       "</div>"
      ],
      "text/plain": [
       "Empty DataFrame\n",
       "Columns: [DateTime, Headlines, Description]\n",
       "Index: []"
      ]
     },
     "execution_count": 10,
     "metadata": {},
     "output_type": "execute_result"
    }
   ],
   "source": [
    "df[df.duplicated(['Headlines'])]"
   ]
  },
  {
   "cell_type": "markdown",
   "metadata": {},
   "source": [
    "***Outlier Detection*** Outliers detection below is based on the length of the headlines. At this stage, it is not clear how the length of the headlines is relevant to the sentiment of the headline so the analysis will be performed but those \"outliers\" will not be removed just yet."
   ]
  },
  {
   "cell_type": "code",
   "execution_count": 11,
   "metadata": {},
   "outputs": [],
   "source": [
    "#Check headline length\n",
    "df['Length']= df.Headlines.str.len()"
   ]
  },
  {
   "cell_type": "code",
   "execution_count": 12,
   "metadata": {},
   "outputs": [
    {
     "data": {
      "text/plain": [
       "Text(0.5, 1.0, 'Number of Headline Characters')"
      ]
     },
     "execution_count": 12,
     "metadata": {},
     "output_type": "execute_result"
    },
    {
     "data": {
      "image/png": "[encoded data removed]",
      "text/plain": [
       "<Figure size 720x504 with 1 Axes>"
      ]
     },
     "metadata": {
      "needs_background": "light"
     },
     "output_type": "display_data"
    }
   ],
   "source": [
    "fig = plt.figure(1, figsize=(10, 7))\n",
    "ax = fig.add_subplot(111)\n",
    "bp = ax.boxplot(df['Length'], vert=False)\n",
    "ax.set_title('Number of Headline Characters')"
   ]
  },
  {
   "cell_type": "markdown",
   "metadata": {},
   "source": [
    "#### 1.4 Text Preprocessing"
   ]
  },
  {
   "cell_type": "code",
   "execution_count": 13,
   "metadata": {},
   "outputs": [],
   "source": [
    "#Remove punctuation\n",
    "#Sample Input:Take Five: Hoping for that V-shape in earnings\n",
    "#Sample Output: Take Five Hoping for that Vshape in earnings\n",
    "def removePunc(s):\n",
    "    return s.translate(str.maketrans('', '', string.punctuation))"
   ]
  },
  {
   "cell_type": "code",
   "execution_count": 14,
   "metadata": {},
   "outputs": [],
   "source": [
    "#Make all characters lower cases\n",
    "#Sample input: Take Five: Hoping for that V-shape in earnings\n",
    "#Sample Ooutput: take five: hoping for that v-shape in earnings\n",
    "def toLower(s):\n",
    "    return s.lower()"
   ]
  },
  {
   "cell_type": "code",
   "execution_count": 15,
   "metadata": {},
   "outputs": [],
   "source": [
    "#Remove digits\n",
    "#Sample Input: S&P 500 ends higher as traders weigh stimulus and virus worries\n",
    "#Sample Output: S&P  ends higher as traders weigh stimulus and virus worries\n",
    "def removeDigit(s):\n",
    "    return str(\"\".join(filter(lambda x: not x.isdigit(), s)))"
   ]
  },
  {
   "cell_type": "code",
   "execution_count": 16,
   "metadata": {},
   "outputs": [],
   "source": [
    "#Remove stop words\n",
    "#Sample Input: Take Five: Hoping for that V-shape in earnings\n",
    "#Sample Output: Take Five: Hoping V-shape earnings\n",
    "def removeStopWords(s):\n",
    "    return gensim.parsing.preprocessing.remove_stopwords(s)"
   ]
  },
  {
   "cell_type": "markdown",
   "metadata": {},
   "source": [
    "***Stemming***\n",
    "There are two techniques available for text normalization in NLP: stemming and lemmatization. In this project, the Python nltk (Natural Language Tool Kit) package provided by Python will be used for stemming tasks. There are several algorithms available for stemming in nltk package and for simplicity and efficiency, PorterStemmer, using siffix stripping to produce stems, will be used here. Because PorterStemmer does not keep a lookup table for actual stems of the word so it often generat stems that are not actual English words."
   ]
  },
  {
   "cell_type": "code",
   "execution_count": 17,
   "metadata": {},
   "outputs": [],
   "source": [
    "#Stemming\n",
    "#Sample Input: Take Five: Hoping for that V-shape in earnings\n",
    "#Sample Output: take five : hope for that v-shape in earn \n",
    "stemmer = stem.PorterStemmer()\n",
    "def stemming(s):\n",
    "    tokenwords = word_tokenize(s)\n",
    "    line = []\n",
    "    for word in tokenwords:\n",
    "        line.append(stemmer.stem(word))\n",
    "        line.append(' ')\n",
    "    return \"\".join(line)"
   ]
  },
  {
   "cell_type": "code",
   "execution_count": 18,
   "metadata": {},
   "outputs": [
    {
     "data": {
      "text/html": [
       "<div>\n",
       "<style scoped>\n",
       "    .dataframe tbody tr th:only-of-type {\n",
       "        vertical-align: middle;\n",
       "    }\n",
       "\n",
       "    .dataframe tbody tr th {\n",
       "        vertical-align: top;\n",
       "    }\n",
       "\n",
       "    .dataframe thead th {\n",
       "        text-align: right;\n",
       "    }\n",
       "</style>\n",
       "<table border=\"1\" class=\"dataframe\">\n",
       "  <thead>\n",
       "    <tr style=\"text-align: right;\">\n",
       "      <th></th>\n",
       "      <th>Headlines</th>\n",
       "      <th>Cleaned Headlines</th>\n",
       "    </tr>\n",
       "  </thead>\n",
       "  <tbody>\n",
       "    <tr>\n",
       "      <th>0</th>\n",
       "      <td>TikTok considers London and other locations fo...</td>\n",
       "      <td>tiktok consid london locat headquart</td>\n",
       "    </tr>\n",
       "    <tr>\n",
       "      <th>1</th>\n",
       "      <td>Disney cuts ad spending on Facebook amid growi...</td>\n",
       "      <td>disney cut ad spend facebook amid grow boycott...</td>\n",
       "    </tr>\n",
       "    <tr>\n",
       "      <th>2</th>\n",
       "      <td>Trail of missing Wirecard executive leads to B...</td>\n",
       "      <td>trail miss wirecard execut lead belaru der spi...</td>\n",
       "    </tr>\n",
       "    <tr>\n",
       "      <th>3</th>\n",
       "      <td>Twitter says attackers downloaded data from up...</td>\n",
       "      <td>twitter say attack download data nonverifi acc...</td>\n",
       "    </tr>\n",
       "    <tr>\n",
       "      <th>4</th>\n",
       "      <td>U.S. Republicans seek liability protections as...</td>\n",
       "      <td>republican seek liabil protect coronaviru aid ...</td>\n",
       "    </tr>\n",
       "    <tr>\n",
       "      <th>5</th>\n",
       "      <td>Wall Street Week Ahead: Fund managers navigate...</td>\n",
       "      <td>wall street week ahead fund manag navig night ...</td>\n",
       "    </tr>\n",
       "    <tr>\n",
       "      <th>6</th>\n",
       "      <td>Take Five: Hoping for that V-shape in earnings</td>\n",
       "      <td>hope vshape earn</td>\n",
       "    </tr>\n",
       "    <tr>\n",
       "      <th>7</th>\n",
       "      <td>Evictions nearly back to pre-pandemic levels i...</td>\n",
       "      <td>evict nearli prepandem level area cleveland fe...</td>\n",
       "    </tr>\n",
       "    <tr>\n",
       "      <th>8</th>\n",
       "      <td>Google bans ads on coronavirus conspiracy theo...</td>\n",
       "      <td>googl ban ad coronaviru conspiraci theori cont...</td>\n",
       "    </tr>\n",
       "    <tr>\n",
       "      <th>9</th>\n",
       "      <td>Flight to suburbs boosts U.S. homebuilding, bu...</td>\n",
       "      <td>flight suburb boost homebuild covid surg erod ...</td>\n",
       "    </tr>\n",
       "  </tbody>\n",
       "</table>\n",
       "</div>"
      ],
      "text/plain": [
       "                                           Headlines  \\\n",
       "0  TikTok considers London and other locations fo...   \n",
       "1  Disney cuts ad spending on Facebook amid growi...   \n",
       "2  Trail of missing Wirecard executive leads to B...   \n",
       "3  Twitter says attackers downloaded data from up...   \n",
       "4  U.S. Republicans seek liability protections as...   \n",
       "5  Wall Street Week Ahead: Fund managers navigate...   \n",
       "6     Take Five: Hoping for that V-shape in earnings   \n",
       "7  Evictions nearly back to pre-pandemic levels i...   \n",
       "8  Google bans ads on coronavirus conspiracy theo...   \n",
       "9  Flight to suburbs boosts U.S. homebuilding, bu...   \n",
       "\n",
       "                                   Cleaned Headlines  \n",
       "0              tiktok consid london locat headquart   \n",
       "1  disney cut ad spend facebook amid grow boycott...  \n",
       "2  trail miss wirecard execut lead belaru der spi...  \n",
       "3  twitter say attack download data nonverifi acc...  \n",
       "4  republican seek liabil protect coronaviru aid ...  \n",
       "5  wall street week ahead fund manag navig night ...  \n",
       "6                                  hope vshape earn   \n",
       "7  evict nearli prepandem level area cleveland fe...  \n",
       "8  googl ban ad coronaviru conspiraci theori cont...  \n",
       "9  flight suburb boost homebuild covid surg erod ...  "
      ]
     },
     "execution_count": 18,
     "metadata": {},
     "output_type": "execute_result"
    }
   ],
   "source": [
    "#Add a new column to apply text preprocessing functions to the Headline column\n",
    "df['Cleaned Headlines'] = df['Headlines'].map(removePunc).map(toLower).map(removeDigit).map(removeStopWords).map(stemming)\n",
    "df[['Headlines', 'Cleaned Headlines']].head(10)"
   ]
  },
  {
   "cell_type": "code",
   "execution_count": 19,
   "metadata": {},
   "outputs": [
    {
     "data": {
      "text/plain": [
       "90"
      ]
     },
     "execution_count": 19,
     "metadata": {},
     "output_type": "execute_result"
    }
   ],
   "source": [
    "#Review the length of the headlines\n",
    "df['Length']= df['Cleaned Headlines'].str.len()\n",
    "#print(df[df['Length']==df['Length'].max()])\n",
    "df['Length'].max()"
   ]
  },
  {
   "cell_type": "code",
   "execution_count": 20,
   "metadata": {},
   "outputs": [
    {
     "data": {
      "text/plain": [
       "Text(0.5, 1.0, 'Number of Cleaned Headline Characters')"
      ]
     },
     "execution_count": 20,
     "metadata": {},
     "output_type": "execute_result"
    },
    {
     "data": {
      "image/png": "[encoded data removed]",
      "text/plain": [
       "<Figure size 720x504 with 1 Axes>"
      ]
     },
     "metadata": {
      "needs_background": "light"
     },
     "output_type": "display_data"
    }
   ],
   "source": [
    "fig1 = plt.figure(1, figsize=(10, 7))\n",
    "ax1 = fig1.add_subplot(111)\n",
    "bp1 = ax1.boxplot(df['Length'], vert=False)\n",
    "ax1.set_title('Number of Cleaned Headline Characters')"
   ]
  },
  {
   "cell_type": "code",
   "execution_count": 21,
   "metadata": {},
   "outputs": [],
   "source": [
    "#Reorder columns\n",
    "df = df[['DateTime', 'Cleaned Headlines','Headlines','Description','Length']]\n",
    "#Save the cleanned data to a csv file\n",
    "df.to_csv(path + '\\\\Data\\\\Cleaned\\\\cleaned_data.csv',index=False)"
   ]
  },
  {
   "cell_type": "markdown",
   "metadata": {},
   "source": [
    "### Section 2. Exploratory Data Analysis"
   ]
  },
  {
   "cell_type": "code",
   "execution_count": null,
   "metadata": {},
   "outputs": [],
   "source": []
  },
  {
   "cell_type": "markdown",
   "metadata": {},
   "source": [
    "### Section 3. Modeling and Analysis"
   ]
  },
  {
   "cell_type": "code",
   "execution_count": null,
   "metadata": {},
   "outputs": [],
   "source": []
  },
  {
   "cell_type": "markdown",
   "metadata": {},
   "source": [
    "### Section 4. Conclusion"
   ]
  },
  {
   "cell_type": "code",
   "execution_count": null,
   "metadata": {},
   "outputs": [],
   "source": []
  }
 ],
 "metadata": {
  "kernelspec": {
   "display_name": "Python 3",
   "language": "python",
   "name": "python3"
  },
  "language_info": {
   "codemirror_mode": {
    "name": "ipython",
    "version": 3
   },
   "file_extension": ".py",
   "mimetype": "text/x-python",
   "name": "python",
   "nbconvert_exporter": "python",
   "pygments_lexer": "ipython3",
   "version": "3.7.4"
  }
 },
 "nbformat": 4,
 "nbformat_minor": 2
}
